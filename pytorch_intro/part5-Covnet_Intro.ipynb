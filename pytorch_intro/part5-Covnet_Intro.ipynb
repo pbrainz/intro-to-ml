{
 "cells": [
  {
   "cell_type": "markdown",
   "id": "1488e9ac-a2ff-468a-900d-52c23f0caca0",
   "metadata": {},
   "source": [
    "## Convolutional Nueral Networks in a nutshell\n",
    "\n",
    "- accepts 2D and 3D input\n",
    "- most typical is a 2D input\n",
    ">\n",
    "- pass an image\n",
    "- 2D array of pixels\n",
    ">\n",
    "- apply convolutions\n",
    "- convolution's goal is to locate features of an image\n",
    "- convolution kernels - take X by X pixels and analyze\n",
    "> \n",
    "- looks for features in that kernel\n",
    "- work on numbers, not strings or concepts\n",
    "- first layer of convolution kernels tends to find edges/curves/corners\n",
    "- following kernel layers tend to find things that the edge/curves/corners build such as squares/circles\n",
    ">\n",
    "- [reference in video](https://www.youtube.com/watch?v=9aYuQmMJvjA&t=244s)\n",
    ">\n",
    "- end up with condensed version of image\n",
    "- do a pooling of convolutions\n",
    ">\n",
    "- [reference in video](https://www.youtube.com/watch?v=9aYuQmMJvjA&t=362s)\n",
    ">\n",
    "*the convolutional model essentially simplifies the image and looks for features of the image, and generally there will be multiple convolutional layers*"
   ]
  },
  {
   "cell_type": "markdown",
   "id": "06207fbb",
   "metadata": {},
   "source": [
    "## Data to Use & Building the Data\n",
    "\n",
    "> [link to dataset](https://download.microsoft.com/download/3/E/1/3E1C3F21-ECDB-4869-8368-6DEBA77B919F/kagglecatsanddogs_3367a.zip)\n",
    "\n",
    "**Image Resizing Tips and Tricks (abt 2min watch) [link](https://www.youtube.com/watch?v=9aYuQmMJvjA&t=873s)**\n",
    "\n",
    "\n",
    "### Converting Images to grayscale\n",
    " - with images in Covnets, you dont have to convert to grayscale\n",
    " - a dense lay/linear layer will require flattened data\n",
    " - a convolutional layer can be 1D, 2D, 3D, 8D etc...\n",
    " - can make multi-dimensional covnets if want to, so we're good\n",
    " >\n",
    " - also, is color relevant to identifying cats and dogs? not really?\n",
    " - You want to SIMPLIFY and make the model AS SMALL AS POSSIBLE\n",
    "\n",
    "### Converting Scalar Values to One-Hot Vectors\n",
    "\n",
    " - essentially we can use better loss metrics\n",
    " \n",
    "> [reference link](https://youtu.be/9aYuQmMJvjA?t=1396)\n",
    "\n",
    "### Data Distribution Short Statement\n",
    "\n",
    "[link](https://www.youtube.com/watch?v=9aYuQmMJvjA&t=1588s)"
   ]
  },
  {
   "cell_type": "code",
   "execution_count": 13,
   "id": "8dd470df",
   "metadata": {},
   "outputs": [
    {
     "name": "stdout",
     "output_type": "stream",
     "text": [
      "PetImages/Cat\n"
     ]
    },
    {
     "name": "stderr",
     "output_type": "stream",
     "text": [
      "  6%|▌         | 757/12501 [00:00<00:04, 2517.40it/s]Corrupt JPEG data: 239 extraneous bytes before marker 0xd9\n",
      " 21%|██        | 2597/12501 [00:01<00:03, 2535.57it/s]Corrupt JPEG data: 214 extraneous bytes before marker 0xd9\n",
      " 45%|████▌     | 5661/12501 [00:02<00:02, 2501.12it/s]Corrupt JPEG data: 1153 extraneous bytes before marker 0xd9\n",
      " 56%|█████▌    | 6957/12501 [00:02<00:02, 2516.94it/s]Corrupt JPEG data: 99 extraneous bytes before marker 0xd9\n",
      " 91%|█████████ | 11375/12501 [00:04<00:00, 2335.34it/s]Corrupt JPEG data: 128 extraneous bytes before marker 0xd9\n",
      "100%|██████████| 12501/12501 [00:04<00:00, 2507.43it/s]\n"
     ]
    },
    {
     "name": "stdout",
     "output_type": "stream",
     "text": [
      "PetImages/Dog\n"
     ]
    },
    {
     "name": "stderr",
     "output_type": "stream",
     "text": [
      " 10%|▉         | 1195/12501 [00:00<00:04, 2295.49it/s]Corrupt JPEG data: 1403 extraneous bytes before marker 0xd9\n",
      " 29%|██▊       | 3585/12501 [00:01<00:03, 2379.28it/s]Corrupt JPEG data: 226 extraneous bytes before marker 0xd9\n",
      " 31%|███       | 3823/12501 [00:01<00:03, 2309.95it/s]Corrupt JPEG data: 399 extraneous bytes before marker 0xd9\n",
      " 38%|███▊      | 4782/12501 [00:02<00:03, 2377.87it/s]Corrupt JPEG data: 2230 extraneous bytes before marker 0xd9\n",
      " 52%|█████▏    | 6476/12501 [00:02<00:02, 2357.15it/s]Warning: unknown JFIF revision number 0.00\n",
      " 59%|█████▉    | 7417/12501 [00:03<00:02, 2282.48it/s]Corrupt JPEG data: 65 extraneous bytes before marker 0xd9\n",
      " 63%|██████▎   | 7896/12501 [00:03<00:01, 2343.25it/s]Corrupt JPEG data: 254 extraneous bytes before marker 0xd9\n",
      " 71%|███████   | 8847/12501 [00:03<00:01, 2364.24it/s]Corrupt JPEG data: 162 extraneous bytes before marker 0xd9\n",
      "100%|██████████| 12501/12501 [00:05<00:00, 2345.72it/s]\n"
     ]
    },
    {
     "name": "stdout",
     "output_type": "stream",
     "text": [
      "Cats:  12476\n",
      "Dogs:  12470\n"
     ]
    }
   ],
   "source": [
    "import os\n",
    "import cv2\n",
    "import numpy as np\n",
    "from tqdm import tqdm\n",
    "import torch\n",
    "\n",
    "\n",
    "# We dont want to build data everytime we run our code\n",
    "# preproccessing can take a long time\n",
    "# in this case, it is not that large of a dataset\n",
    "REBUILD_DATA = True\n",
    "\n",
    "class DogsVSCats():\n",
    "    # need image sizes to all be the same size for input\n",
    "    IMG_SIZE = 50 # we are going to make all the images 50x50\n",
    "    \n",
    "    CATS = \"PetImages/Cat\"\n",
    "    DOGS = \"PetImages/Dog\"\n",
    "    LABELS = {CATS: 0, DOGS: 1}\n",
    "    training_data = []\n",
    "\n",
    "    catcount = 0\n",
    "    dogcount = 0\n",
    "\n",
    "    def make_training_data(self):\n",
    "        # iterating over all the directories\n",
    "        for label in self.LABELS:\n",
    "            print(label)\n",
    "            # iterate over all the jpg images in the directories\n",
    "            for f in tqdm(os.listdir(label)):\n",
    "                if \"jpg\" in f:\n",
    "                    try:\n",
    "                        path = os.path.join(label, f)\n",
    "                        img = cv2.imread(path, cv2.IMREAD_GRAYSCALE)\n",
    "                        img = cv2.resize(img, (self.IMG_SIZE, self.IMG_SIZE))\n",
    "                        self.training_data.append([np.array(img), np.eye(2)[self.LABELS[label]]])\n",
    "\n",
    "                        if label == self.CATS:\n",
    "                            self.catcount += 1\n",
    "                        elif label == self.DOGS:\n",
    "                            self.dogcount += 1\n",
    "                    except Exception as e:\n",
    "                        # some of the images are no good\n",
    "                        # some might be corrupt or empty\n",
    "                        # normally would print(str(e)) but we already know what the error is\n",
    "                        pass\n",
    "        \n",
    "        # after we run the for loop, shuffle data\n",
    "        # shuffles in-place so we dont have to reassign data\n",
    "        np.random.shuffle(self.training_data)\n",
    "        np.save(\"training_data.npy\", self.training_data)\n",
    "        print(\"Cats: \", self.catcount)\n",
    "        print(\"Dogs: \", self.dogcount)\n",
    "\n",
    "if REBUILD_DATA:\n",
    "    dogsvcats = DogsVSCats()\n",
    "    dogsvcats.make_training_data()"
   ]
  },
  {
   "cell_type": "code",
   "execution_count": 15,
   "id": "f6fc30d4",
   "metadata": {},
   "outputs": [],
   "source": [
    "training_data = np.load(\"training_data.npy\", allow_pickle = True) # dunno whats up with allow_pickle, but need it to load data in this case"
   ]
  },
  {
   "cell_type": "code",
   "execution_count": 16,
   "id": "beac94e2",
   "metadata": {},
   "outputs": [
    {
     "name": "stdout",
     "output_type": "stream",
     "text": [
      "24946\n"
     ]
    }
   ],
   "source": [
    "print(len(training_data))"
   ]
  },
  {
   "cell_type": "code",
   "execution_count": 17,
   "id": "a53b130e",
   "metadata": {},
   "outputs": [
    {
     "name": "stdout",
     "output_type": "stream",
     "text": [
      "[array([[ 61,  53,  50, ...,  48,  48,  52],\n",
      "       [ 54,  50,  47, ...,  44,  49,  50],\n",
      "       [ 48,  51,  48, ...,  45,  45,  48],\n",
      "       ...,\n",
      "       [168, 167, 168, ..., 120, 110, 121],\n",
      "       [150, 141, 137, ..., 144, 158, 125],\n",
      "       [139, 150, 130, ..., 155, 155, 139]], dtype=uint8)\n",
      " array([1., 0.])]\n"
     ]
    }
   ],
   "source": [
    "print(training_data[1])"
   ]
  },
  {
   "cell_type": "code",
   "execution_count": 19,
   "id": "6957b197",
   "metadata": {},
   "outputs": [
    {
     "data": {
      "image/png": "[encoded data removed]",
      "text/plain": [
       "<Figure size 432x288 with 1 Axes>"
      ]
     },
     "metadata": {
      "needs_background": "light"
     },
     "output_type": "display_data"
    }
   ],
   "source": [
    "import matplotlib.pyplot as plt \n",
    "\n",
    "plt.imshow(training_data[1][0], cmap=\"gray\")\n",
    "plt.show()"
   ]
  },
  {
   "cell_type": "code",
   "execution_count": null,
   "id": "889dd7e7",
   "metadata": {},
   "outputs": [
    {
     "data": {
      "text/plain": [
       "array([1., 0.])"
      ]
     },
     "execution_count": 20,
     "metadata": {},
     "output_type": "execute_result"
    }
   ],
   "source": [
    "training_data[1][1]"
   ]
  },
  {
   "cell_type": "markdown",
   "id": "e5291907",
   "metadata": {},
   "source": [
    "**^ we can see the calssification**\n",
    "\n",
    "*remember 1,0 is cat, 0,1 is dog*\n",
    "\n",
    "\n",
    "- now we want to start taking batches of this data\n",
    "- pass those batches through out model\n",
    "- optimizing and learning how to classify images ad dogs and cats"
   ]
  }
 ],
 "metadata": {
  "interpreter": {
   "hash": "916dbcbb3f70747c44a77c7bcd40155683ae19c65e1c03b4aa3499c5328201f1"
  },
  "kernelspec": {
   "display_name": "Python 3.8.10 64-bit",
   "name": "python3"
  },
  "language_info": {
   "codemirror_mode": {
    "name": "ipython",
    "version": 3
   },
   "file_extension": ".py",
   "mimetype": "text/x-python",
   "name": "python",
   "nbconvert_exporter": "python",
   "pygments_lexer": "ipython3",
   "version": "3.8.10"
  }
 },
 "nbformat": 4,
 "nbformat_minor": 5
}
