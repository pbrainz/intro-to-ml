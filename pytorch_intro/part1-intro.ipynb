{
 "cells": [
  {
   "cell_type": "markdown",
   "id": "7733989e",
   "metadata": {},
   "source": [
    "# Overview\n",
    "\n",
    "- torch is basically **numpy**, but on the gpu\n",
    "- torch has variants/counterparts of numpy\n",
    "- torch has additional *helper functions*"
   ]
  },
  {
   "cell_type": "code",
   "execution_count": 2,
   "id": "7d411cac",
   "metadata": {},
   "outputs": [
    {
     "name": "stdout",
     "output_type": "stream",
     "text": [
      "tensor([10,  3])\n"
     ]
    }
   ],
   "source": [
    "import torch\n",
    "import torchvision"
   ]
  },
  {
   "cell_type": "markdown",
   "id": "f2eb377f",
   "metadata": {},
   "source": [
    "## Init Tensors\n",
    "\n",
    "- A tensor is just a multidimentional array"
   ]
  },
  {
   "cell_type": "code",
   "execution_count": 10,
   "id": "0735d969",
   "metadata": {},
   "outputs": [
    {
     "name": "stdout",
     "output_type": "stream",
     "text": [
      "tensor([10,  3])\n"
     ]
    }
   ],
   "source": [
    "x = torch.tensor([5,3])\n",
    "y = torch.tensor([2,1])\n",
    "\n",
    "print(x*y)"
   ]
  },
  {
   "cell_type": "markdown",
   "id": "6da974f5",
   "metadata": {},
   "source": [
    "## Zero out a tensor value\n",
    "- just another calculation that can be done"
   ]
  },
  {
   "cell_type": "code",
   "execution_count": 3,
   "id": "8c1eaf65",
   "metadata": {},
   "outputs": [
    {
     "name": "stdout",
     "output_type": "stream",
     "text": [
      "tensor([[0., 0., 0., 0., 0.],\n",
      "        [0., 0., 0., 0., 0.]])\n"
     ]
    }
   ],
   "source": [
    "x = torch.zeros([2,5])\n",
    "print(x)"
   ]
  },
  {
   "cell_type": "code",
   "execution_count": 5,
   "id": "aba547a5",
   "metadata": {},
   "outputs": [
    {
     "data": {
      "text/plain": [
       "torch.Size([2, 5])"
      ]
     },
     "execution_count": 5,
     "metadata": {},
     "output_type": "execute_result"
    }
   ],
   "source": [
    "x.shape"
   ]
  },
  {
   "cell_type": "code",
   "execution_count": 13,
   "id": "03b59414",
   "metadata": {},
   "outputs": [],
   "source": [
    "y = torch.rand([2,5])"
   ]
  },
  {
   "cell_type": "code",
   "execution_count": 14,
   "id": "e734272e",
   "metadata": {},
   "outputs": [
    {
     "data": {
      "text/plain": [
       "tensor([[0.1752, 0.6663, 0.0953, 0.9519, 0.8387],\n",
       "        [0.0474, 0.5973, 0.6117, 0.7145, 0.8412]])"
      ]
     },
     "execution_count": 14,
     "metadata": {},
     "output_type": "execute_result"
    }
   ],
   "source": [
    "y"
   ]
  },
  {
   "cell_type": "markdown",
   "id": "bb7e0986",
   "metadata": {},
   "source": [
    "## Reshaping Things\n",
    "\n",
    "- Numpy has a *reshape* function, (also possibly tensorflow)\n",
    "- torch uses a function/method called *view*\n",
    "\n",
    "### EX:\n",
    "\n",
    "- want to flatten something (an image)\n",
    "- thing is a 2x5 array (2x5 pixels)\n",
    "- have to *flatten* image to feed to a nueral network\n",
    "- will turn 2x5 into 1x10"
   ]
  },
  {
   "cell_type": "code",
   "execution_count": 15,
   "id": "0a57d194",
   "metadata": {},
   "outputs": [
    {
     "data": {
      "text/plain": [
       "tensor([[0.1752, 0.6663, 0.0953, 0.9519, 0.8387, 0.0474, 0.5973, 0.6117, 0.7145,\n",
       "         0.8412]])"
      ]
     },
     "execution_count": 15,
     "metadata": {},
     "output_type": "execute_result"
    }
   ],
   "source": [
    "y.view([1,10])"
   ]
  },
  {
   "cell_type": "code",
   "execution_count": 16,
   "id": "6e52f07f",
   "metadata": {},
   "outputs": [
    {
     "data": {
      "text/plain": [
       "tensor([[0.1752, 0.6663, 0.0953, 0.9519, 0.8387],\n",
       "        [0.0474, 0.5973, 0.6117, 0.7145, 0.8412]])"
      ]
     },
     "execution_count": 16,
     "metadata": {},
     "output_type": "execute_result"
    }
   ],
   "source": [
    "y"
   ]
  },
  {
   "cell_type": "code",
   "execution_count": 17,
   "id": "8310e655",
   "metadata": {},
   "outputs": [],
   "source": [
    "y = y.view([1,10])"
   ]
  },
  {
   "cell_type": "code",
   "execution_count": 18,
   "id": "b8e3947e",
   "metadata": {},
   "outputs": [
    {
     "data": {
      "text/plain": [
       "tensor([[0.1752, 0.6663, 0.0953, 0.9519, 0.8387, 0.0474, 0.5973, 0.6117, 0.7145,\n",
       "         0.8412]])"
      ]
     },
     "execution_count": 18,
     "metadata": {},
     "output_type": "execute_result"
    }
   ],
   "source": [
    "y"
   ]
  }
 ],
 "metadata": {
  "interpreter": {
   "hash": "916dbcbb3f70747c44a77c7bcd40155683ae19c65e1c03b4aa3499c5328201f1"
  },
  "kernelspec": {
   "display_name": "Python 3 (ipykernel)",
   "language": "python",
   "name": "python3"
  },
  "language_info": {
   "codemirror_mode": {
    "name": "ipython",
    "version": 3
   },
   "file_extension": ".py",
   "mimetype": "text/x-python",
   "name": "python",
   "nbconvert_exporter": "python",
   "pygments_lexer": "ipython3",
   "version": "3.8.10"
  }
 },
 "nbformat": 4,
 "nbformat_minor": 5
}
