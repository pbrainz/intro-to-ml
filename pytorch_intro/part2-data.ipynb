{
 "cells": [
  {
   "cell_type": "markdown",
   "id": "29c53e47",
   "metadata": {},
   "source": [
    "# Data in a Nueral Network\n",
    "- Using Torch's Built-in Vision Dataset\n",
    "- basically cheating to use built-in data\n",
    "\n",
    "### Importance of Data\n",
    "**Most time will be spent:**\n",
    "- getting data\n",
    "- prepping data\n",
    "- formating/converting data to work with nueral network\n",
    "- batching\n",
    "\n",
    "- torchvision's dataset is already prepared "
   ]
  },
  {
   "cell_type": "code",
   "execution_count": 1,
   "id": "2d640313-b467-42e0-8d2d-70e74fbf2dca",
   "metadata": {},
   "outputs": [],
   "source": [
    "import torch\n",
    "import torchvision\n",
    "from torchvision import transforms, datasets"
   ]
  },
  {
   "cell_type": "markdown",
   "id": "10c9a2ab",
   "metadata": {},
   "source": [
    "## Training data vs Testing Data\n",
    "\n",
    "**must use different datasets**\n",
    "- keep separate\n",
    "\n",
    "in order to *validate* your model, you have to have *out-of-sample* testing data.\n",
    "- this is data that has never been seen before\n",
    "- if machine learns to *overfit data*, it will perform very well with *in-sample* data, but terribly with new data\n",
    "- with millions+ tunable paramaters in a nueral network, if you train your model for to long, it can start to overfit data\n",
    "\n",
    "- need to know what stats to watch and how long to train\n",
    "\n"
   ]
  },
  {
   "cell_type": "markdown",
   "id": "660f72e3",
   "metadata": {},
   "source": [
    "## Iterating over a dataset\n",
    "\n",
    "- can be tedious\n",
    "- when get used to syntax, iteration should become easier\n",
    "- (EX:) could write custom transforms"
   ]
  },
  {
   "cell_type": "code",
   "execution_count": 3,
   "id": "140bafa0",
   "metadata": {},
   "outputs": [
    {
     "name": "stdout",
     "output_type": "stream",
     "text": [
      "Downloading http://yann.lecun.com/exdb/mnist/train-images-idx3-ubyte.gz\n",
      "Downloading http://yann.lecun.com/exdb/mnist/train-images-idx3-ubyte.gz to MNIST/raw/train-images-idx3-ubyte.gz\n"
     ]
    },
    {
     "name": "stderr",
     "output_type": "stream",
     "text": [
      "9913344it [00:02, 4144506.43it/s]                             \n"
     ]
    },
    {
     "name": "stdout",
     "output_type": "stream",
     "text": [
      "Extracting MNIST/raw/train-images-idx3-ubyte.gz to MNIST/raw\n",
      "\n",
      "Downloading http://yann.lecun.com/exdb/mnist/train-labels-idx1-ubyte.gz\n",
      "Downloading http://yann.lecun.com/exdb/mnist/train-labels-idx1-ubyte.gz to MNIST/raw/train-labels-idx1-ubyte.gz\n"
     ]
    },
    {
     "name": "stderr",
     "output_type": "stream",
     "text": [
      "29696it [00:00, 7292391.78it/s]          \n"
     ]
    },
    {
     "name": "stdout",
     "output_type": "stream",
     "text": [
      "Extracting MNIST/raw/train-labels-idx1-ubyte.gz to MNIST/raw\n",
      "\n",
      "Downloading http://yann.lecun.com/exdb/mnist/t10k-images-idx3-ubyte.gz\n",
      "Downloading http://yann.lecun.com/exdb/mnist/t10k-images-idx3-ubyte.gz to MNIST/raw/t10k-images-idx3-ubyte.gz\n"
     ]
    },
    {
     "name": "stderr",
     "output_type": "stream",
     "text": [
      "1649664it [00:00, 4123114.55it/s]                            \n"
     ]
    },
    {
     "name": "stdout",
     "output_type": "stream",
     "text": [
      "Extracting MNIST/raw/t10k-images-idx3-ubyte.gz to MNIST/raw\n",
      "\n",
      "Downloading http://yann.lecun.com/exdb/mnist/t10k-labels-idx1-ubyte.gz\n",
      "Downloading http://yann.lecun.com/exdb/mnist/t10k-labels-idx1-ubyte.gz to MNIST/raw/t10k-labels-idx1-ubyte.gz\n"
     ]
    },
    {
     "name": "stderr",
     "output_type": "stream",
     "text": [
      "5120it [00:00, 14212333.87it/s]         "
     ]
    },
    {
     "name": "stdout",
     "output_type": "stream",
     "text": [
      "Extracting MNIST/raw/t10k-labels-idx1-ubyte.gz to MNIST/raw\n",
      "\n",
      "Processing...\n",
      "Done!\n"
     ]
    },
    {
     "name": "stderr",
     "output_type": "stream",
     "text": [
      "\n",
      "/home/devel/.local/lib/python3.8/site-packages/torchvision/datasets/mnist.py:502: UserWarning: The given NumPy array is not writeable, and PyTorch does not support non-writeable tensors. This means you can write to the underlying (supposedly non-writeable) NumPy array using the tensor. You may want to copy the array to protect its data or make it writeable before converting it to a tensor. This type of warning will be suppressed for the rest of this program. (Triggered internally at  ../torch/csrc/utils/tensor_numpy.cpp:143.)\n",
      "  return torch.from_numpy(parsed.astype(m[2], copy=False)).view(*s)\n"
     ]
    }
   ],
   "source": [
    "train = datasets.MNIST(\"\", train=True, download=True, \n",
    "                      transform = transforms.Compose([transforms.ToTensor()]))\n",
    "\n",
    "test = datasets.MNIST(\"\", train=True, download=True, \n",
    "                      transform = transforms.Compose([transforms.ToTensor()]))"
   ]
  },
  {
   "cell_type": "markdown",
   "id": "fa4fe697",
   "metadata": {},
   "source": [
    "## Batches of data and Comments on this Specific Dataset - Preparing data for a model\n",
    "\n",
    "- this is a VERY small dataset (abt 116mb)\n",
    "- this definitely fits in ram, and any common gpu \n",
    "- could pass dataset through model in one go\n",
    "\n",
    ">\n",
    "\n",
    "- the above facts are very impractical when upscaling datasets\n",
    "- massive datasets are where deep learning shines\n",
    "- batches are used to iterate through chunks of items in a dataset so can fit in memory\n",
    "\n",
    ">\n",
    "\n",
    "- this is why GPUs with more cuda cores and more ram are favorable\n",
    "- cuda cores = processing capability\n",
    "- ram = batch size "
   ]
  },
  {
   "cell_type": "code",
   "execution_count": 5,
   "id": "deb5af5e",
   "metadata": {},
   "outputs": [],
   "source": [
    "trainset = torch.utils.data.DataLoader(train, batch_size=10, shuffle=True) # iterating through 10 items at a time\n",
    "testset = torch.utils.data.DataLoader(test, batch_size=10, shuffle=True) # a common batch size is anywhere from 8-64 (people like to use base 8 numbers for fun)\n",
    "# batch sizes and nuerons per layer are really trial and error"
   ]
  },
  {
   "cell_type": "markdown",
   "id": "fd6b828e",
   "metadata": {},
   "source": [
    "## Batch Sizes and Shuffling - Passing data through a model\n",
    "\n",
    "- there are millions+ weights to create a path to desired outcome \n",
    "- model optimizes these wieghts with data\n",
    "- if you pass the whole dataset at once, the machine may learn some generalizations, but will also figure out some wieghts are arbitrary\n",
    "- machine has no way to know if something is gernally true or if it is just true in sample data\n",
    "- optimizations through using passing batches, things that are genrally true tend to stick around, and *overfitment cases* tend to get erased\n",
    ">\n",
    "- you dont want to have the biggest batch size possible, there is normally a sweet spot\n",
    "- you do want batch size to be big, data iteration with larger datasets will be quicker, but it comes down to trial and error\n",
    ">\n",
    "- the name of the game is **finding generalizations**\n",
    "- passing data through a model in series is more likely to result in the model utilizing generalizations that occur towards the end of a dataset\n",
    "- shuffling data while passing it through a model helps combat this, and helps the model to find generalizations in the entire dataset\n",
    "> \n",
    "- if there is a quicker route to get to decreasing loss, the model will take that route\n",
    "- have to constantly think about how one can obfuscate overfitment\n"
   ]
  },
  {
   "cell_type": "markdown",
   "id": "6533b7eb",
   "metadata": {},
   "source": [
    "## Iterating over our specific dataset\n",
    "\n",
    "- iterates over specified batch\n",
    "- 10 examples of handwritten digits & 10 tensors of the actual output"
   ]
  },
  {
   "cell_type": "code",
   "execution_count": 6,
   "id": "0299b9c5",
   "metadata": {},
   "outputs": [
    {
     "name": "stdout",
     "output_type": "stream",
     "text": [
      "[tensor([[[[0., 0., 0.,  ..., 0., 0., 0.],\n",
      "          [0., 0., 0.,  ..., 0., 0., 0.],\n",
      "          [0., 0., 0.,  ..., 0., 0., 0.],\n",
      "          ...,\n",
      "          [0., 0., 0.,  ..., 0., 0., 0.],\n",
      "          [0., 0., 0.,  ..., 0., 0., 0.],\n",
      "          [0., 0., 0.,  ..., 0., 0., 0.]]],\n",
      "\n",
      "\n",
      "        [[[0., 0., 0.,  ..., 0., 0., 0.],\n",
      "          [0., 0., 0.,  ..., 0., 0., 0.],\n",
      "          [0., 0., 0.,  ..., 0., 0., 0.],\n",
      "          ...,\n",
      "          [0., 0., 0.,  ..., 0., 0., 0.],\n",
      "          [0., 0., 0.,  ..., 0., 0., 0.],\n",
      "          [0., 0., 0.,  ..., 0., 0., 0.]]],\n",
      "\n",
      "\n",
      "        [[[0., 0., 0.,  ..., 0., 0., 0.],\n",
      "          [0., 0., 0.,  ..., 0., 0., 0.],\n",
      "          [0., 0., 0.,  ..., 0., 0., 0.],\n",
      "          ...,\n",
      "          [0., 0., 0.,  ..., 0., 0., 0.],\n",
      "          [0., 0., 0.,  ..., 0., 0., 0.],\n",
      "          [0., 0., 0.,  ..., 0., 0., 0.]]],\n",
      "\n",
      "\n",
      "        ...,\n",
      "\n",
      "\n",
      "        [[[0., 0., 0.,  ..., 0., 0., 0.],\n",
      "          [0., 0., 0.,  ..., 0., 0., 0.],\n",
      "          [0., 0., 0.,  ..., 0., 0., 0.],\n",
      "          ...,\n",
      "          [0., 0., 0.,  ..., 0., 0., 0.],\n",
      "          [0., 0., 0.,  ..., 0., 0., 0.],\n",
      "          [0., 0., 0.,  ..., 0., 0., 0.]]],\n",
      "\n",
      "\n",
      "        [[[0., 0., 0.,  ..., 0., 0., 0.],\n",
      "          [0., 0., 0.,  ..., 0., 0., 0.],\n",
      "          [0., 0., 0.,  ..., 0., 0., 0.],\n",
      "          ...,\n",
      "          [0., 0., 0.,  ..., 0., 0., 0.],\n",
      "          [0., 0., 0.,  ..., 0., 0., 0.],\n",
      "          [0., 0., 0.,  ..., 0., 0., 0.]]],\n",
      "\n",
      "\n",
      "        [[[0., 0., 0.,  ..., 0., 0., 0.],\n",
      "          [0., 0., 0.,  ..., 0., 0., 0.],\n",
      "          [0., 0., 0.,  ..., 0., 0., 0.],\n",
      "          ...,\n",
      "          [0., 0., 0.,  ..., 0., 0., 0.],\n",
      "          [0., 0., 0.,  ..., 0., 0., 0.],\n",
      "          [0., 0., 0.,  ..., 0., 0., 0.]]]]), tensor([3, 2, 6, 3, 3, 2, 8, 0, 0, 7])]\n"
     ]
    }
   ],
   "source": [
    "for data in trainset:\n",
    "    print(data)\n",
    "    break"
   ]
  },
  {
   "cell_type": "code",
   "execution_count": 7,
   "id": "b663616e",
   "metadata": {},
   "outputs": [
    {
     "name": "stdout",
     "output_type": "stream",
     "text": [
      "tensor(3)\n"
     ]
    }
   ],
   "source": [
    "x, y = data[0][0], data[1][0]\n",
    "\n",
    "print(y)"
   ]
  },
  {
   "cell_type": "code",
   "execution_count": 12,
   "id": "a75fd7d2",
   "metadata": {},
   "outputs": [
    {
     "data": {
      "image/png": "[encoded data removed]",
      "text/plain": [
       "<Figure size 432x288 with 1 Axes>"
      ]
     },
     "metadata": {
      "needs_background": "light"
     },
     "output_type": "display_data"
    }
   ],
   "source": [
    "import matplotlib.pyplot as plt\n",
    "\n",
    "#plt.imshow(data[0][0]) - This is not a valid image for graphing (see below)\n",
    "plt.imshow(data[0][0].view(28,28))\n",
    "plt.show()"
   ]
  },
  {
   "cell_type": "markdown",
   "id": "9a1706bf",
   "metadata": {},
   "source": [
    "**Example of Pytorch's Shaping usage**\n",
    "\n",
    "- if imported this image, and converted to gray scale, it would be a [28, 28], not a [1, 28, 28]\n",
    "- pytorch wants the 1 in front, which a hurdle and why one needs to pay attention for when one wants to feed into a nueral network"
   ]
  },
  {
   "cell_type": "code",
   "execution_count": 11,
   "id": "94c93f16",
   "metadata": {},
   "outputs": [
    {
     "name": "stdout",
     "output_type": "stream",
     "text": [
      "torch.Size([1, 28, 28])\n"
     ]
    }
   ],
   "source": [
    "print(data[0][0].shape)"
   ]
  },
  {
   "cell_type": "markdown",
   "id": "cf1568e0",
   "metadata": {},
   "source": [
    "## Balancing Data\n",
    "\n",
    "- the model looks for the shortest path to decrease loss\n",
    "- the model doesnt know what the lowest loss could be beforehand\n",
    ">\n",
    "- as the optimizer is trying to decrease loss, it does not know how good it can get\n",
    "- its just trying to decrease loss as fast and as easy as possible\n",
    ">\n",
    "- loss is really just measured on the output of a nueral network\n",
    "- if a dataset is not balanced, model can get stuck in a hole of bias for part of a dataset\n",
    "- need a balanced dataset\n",
    ">\n",
    "- there are ways to get around imbalanced datasets by modifying weights of specific classes when calculating loss, but this is EXTREMELY tedious\n",
    "- so just used a dataset that is as balanced as possible (generally same number of occurances for variations in your data)\n",
    ">\n",
    "- (EX of an imbalanced dataset) (faces) 3 smiles, 15 frowns, 52 neutral\n",
    "- (EX of a perfectly balanced dataset) (faces) 15 smiles, 15 frowns, 15 neutral\n",
    "- (EX of a blended balance in a dataset) (faces) 14 smiles, 18 frowns, 16 neural\n",
    " "
   ]
  },
  {
   "cell_type": "markdown",
   "id": "c3b790f4",
   "metadata": {},
   "source": [
    "## Checking balance in our specific datset\n",
    "- count the predictions from the model\n",
    "- in this case, the model predicts hand-drawings as numbers\n",
    "- count how many times a number was predicted from a drawing "
   ]
  },
  {
   "cell_type": "code",
   "execution_count": 17,
   "id": "9a8ce51b",
   "metadata": {},
   "outputs": [
    {
     "name": "stdout",
     "output_type": "stream",
     "text": [
      "{0: 5923, 1: 6742, 2: 5958, 3: 6131, 4: 5842, 5: 5421, 6: 5918, 7: 6265, 8: 5851, 9: 5949}\n"
     ]
    }
   ],
   "source": [
    "total = 0\n",
    "counter_dict = {0:0, 1:0, 2:0, 3:0, 4:0, 5:0, 6:0, 7:0, 8:0, 9:0}\n",
    "\n",
    "for data in trainset:\n",
    "    Xs, ys = data\n",
    "    for y in ys:\n",
    "        counter_dict[int(y)] += 1\n",
    "        total+=1\n",
    "\n",
    "print(counter_dict)"
   ]
  },
  {
   "cell_type": "code",
   "execution_count": 21,
   "id": "2d80020c",
   "metadata": {},
   "outputs": [
    {
     "name": "stdout",
     "output_type": "stream",
     "text": [
      "0: 9.871666666666666\n",
      "1: 11.236666666666666\n",
      "2: 9.93\n",
      "3: 10.218333333333334\n",
      "4: 9.736666666666666\n",
      "5: 9.035\n",
      "6: 9.863333333333333\n",
      "7: 10.441666666666666\n",
      "8: 9.751666666666667\n",
      "9: 9.915000000000001\n"
     ]
    }
   ],
   "source": [
    "for i in counter_dict:\n",
    "    print(f\"{i}: {counter_dict[i]/total*100}\") # reorganize the prediction count and print as a percentage"
   ]
  },
  {
   "cell_type": "markdown",
   "id": "d3eef292",
   "metadata": {},
   "source": [
    "# Data is more important than the nueral network!!!"
   ]
  }
 ],
 "metadata": {
  "interpreter": {
   "hash": "916dbcbb3f70747c44a77c7bcd40155683ae19c65e1c03b4aa3499c5328201f1"
  },
  "kernelspec": {
   "display_name": "Python 3 (ipykernel)",
   "language": "python",
   "name": "python3"
  },
  "language_info": {
   "codemirror_mode": {
    "name": "ipython",
    "version": 3
   },
   "file_extension": ".py",
   "mimetype": "text/x-python",
   "name": "python",
   "nbconvert_exporter": "python",
   "pygments_lexer": "ipython3",
   "version": "3.8.10"
  }
 },
 "nbformat": 4,
 "nbformat_minor": 5
}
